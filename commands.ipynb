{
 "cells": [
  {
   "attachments": {},
   "cell_type": "markdown",
   "metadata": {},
   "source": [
    "# AiStockPicker\n",
    "## Package Build commands\n",
    "### (c) João Caldeira (2023) \n",
    "These are comands to generate the package."
   ]
  },
  {
   "attachments": {},
   "cell_type": "markdown",
   "metadata": {},
   "source": [
    "### Install a package locally using its Directory"
   ]
  },
  {
   "cell_type": "code",
   "execution_count": 10,
   "metadata": {},
   "outputs": [
    {
     "name": "stdout",
     "output_type": "stream",
     "text": [
      "Obtaining file:///Users/joaocaldeira/Development/AIStockPicker\n",
      "  Preparing metadata (setup.py) ... \u001b[?25ldone\n",
      "\u001b[?25hInstalling collected packages: aistockpicker\n",
      "  Attempting uninstall: aistockpicker\n",
      "    Found existing installation: aistockpicker 1.0.0\n",
      "    Uninstalling aistockpicker-1.0.0:\n",
      "      Successfully uninstalled aistockpicker-1.0.0\n",
      "  Running setup.py develop for aistockpicker\n",
      "Successfully installed aistockpicker-1.0.0\n",
      "\n",
      "\u001b[1m[\u001b[0m\u001b[34;49mnotice\u001b[0m\u001b[1;39;49m]\u001b[0m\u001b[39;49m A new release of pip is available: \u001b[0m\u001b[31;49m23.1.2\u001b[0m\u001b[39;49m -> \u001b[0m\u001b[32;49m23.2.1\u001b[0m\n",
      "\u001b[1m[\u001b[0m\u001b[34;49mnotice\u001b[0m\u001b[1;39;49m]\u001b[0m\u001b[39;49m To update, run: \u001b[0m\u001b[32;49mpython3.10 -m pip install --upgrade pip\u001b[0m\n"
     ]
    }
   ],
   "source": [
    "#Assuming this file and the directory to install is in the same folder\n",
    "# ! pip install –e /your/package/folder\n",
    "\n",
    "! pip install -e ./   # ./ Means the current directory"
   ]
  },
  {
   "attachments": {},
   "cell_type": "markdown",
   "metadata": {},
   "source": [
    "### Create a Distribution Tarball"
   ]
  },
  {
   "cell_type": "code",
   "execution_count": 5,
   "metadata": {},
   "outputs": [
    {
     "name": "stdout",
     "output_type": "stream",
     "text": [
      "running sdist\n",
      "running egg_info\n",
      "writing aistockpicker.egg-info/PKG-INFO\n",
      "writing dependency_links to aistockpicker.egg-info/dependency_links.txt\n",
      "writing top-level names to aistockpicker.egg-info/top_level.txt\n",
      "reading manifest file 'aistockpicker.egg-info/SOURCES.txt'\n",
      "adding license file 'LICENSE'\n",
      "writing manifest file 'aistockpicker.egg-info/SOURCES.txt'\n",
      "running check\n",
      "creating aistockpicker-1.0.0\n",
      "creating aistockpicker-1.0.0/aistockpicker.egg-info\n",
      "creating aistockpicker-1.0.0/novaims\n",
      "creating aistockpicker-1.0.0/novaims/aistockpicker\n",
      "creating aistockpicker-1.0.0/novaims/aistockpicker/welcome\n",
      "copying files to aistockpicker-1.0.0...\n",
      "copying LICENSE -> aistockpicker-1.0.0\n",
      "copying README.md -> aistockpicker-1.0.0\n",
      "copying setup.py -> aistockpicker-1.0.0\n",
      "copying aistockpicker.egg-info/PKG-INFO -> aistockpicker-1.0.0/aistockpicker.egg-info\n",
      "copying aistockpicker.egg-info/SOURCES.txt -> aistockpicker-1.0.0/aistockpicker.egg-info\n",
      "copying aistockpicker.egg-info/dependency_links.txt -> aistockpicker-1.0.0/aistockpicker.egg-info\n",
      "copying aistockpicker.egg-info/top_level.txt -> aistockpicker-1.0.0/aistockpicker.egg-info\n",
      "copying novaims/__init__.py -> aistockpicker-1.0.0/novaims\n",
      "copying novaims/aistockpicker/__init__.py -> aistockpicker-1.0.0/novaims/aistockpicker\n",
      "copying novaims/aistockpicker/main.py -> aistockpicker-1.0.0/novaims/aistockpicker\n",
      "copying novaims/aistockpicker/welcome/__init__.py -> aistockpicker-1.0.0/novaims/aistockpicker/welcome\n",
      "copying novaims/aistockpicker/welcome/greetings.py -> aistockpicker-1.0.0/novaims/aistockpicker/welcome\n",
      "Writing aistockpicker-1.0.0/setup.cfg\n",
      "Creating tar archive\n",
      "removing 'aistockpicker-1.0.0' (and everything under it)\n"
     ]
    }
   ],
   "source": [
    "! python setup.py sdist"
   ]
  },
  {
   "attachments": {},
   "cell_type": "markdown",
   "metadata": {},
   "source": [
    "### Install it Locally using the Tarball"
   ]
  },
  {
   "cell_type": "code",
   "execution_count": 6,
   "metadata": {},
   "outputs": [
    {
     "name": "stdout",
     "output_type": "stream",
     "text": [
      "Processing ./dist/aistockpicker-1.0.0.tar.gz\n",
      "  Preparing metadata (setup.py) ... \u001b[?25ldone\n",
      "\u001b[?25hBuilding wheels for collected packages: aistockpicker\n",
      "  Building wheel for aistockpicker (setup.py) ... \u001b[?25ldone\n",
      "\u001b[?25h  Created wheel for aistockpicker: filename=aistockpicker-1.0.0-py3-none-any.whl size=2934 sha256=d6f207ccf27029c0faa469f59baa17c1e57ccc31b3f08d2d1346f1f7545e20a8\n",
      "  Stored in directory: /Users/joaocaldeira/Library/Caches/pip/wheels/e2/8e/49/024b535d44f8d5057171ddb54f7729eebb63e9b54736e3b705\n",
      "Successfully built aistockpicker\n",
      "Installing collected packages: aistockpicker\n",
      "  Attempting uninstall: aistockpicker\n",
      "    Found existing installation: aistockpicker 1.0.0\n",
      "    Uninstalling aistockpicker-1.0.0:\n",
      "      Successfully uninstalled aistockpicker-1.0.0\n",
      "Successfully installed aistockpicker-1.0.0\n",
      "\n",
      "\u001b[1m[\u001b[0m\u001b[34;49mnotice\u001b[0m\u001b[1;39;49m]\u001b[0m\u001b[39;49m A new release of pip is available: \u001b[0m\u001b[31;49m23.1.2\u001b[0m\u001b[39;49m -> \u001b[0m\u001b[32;49m23.2.1\u001b[0m\n",
      "\u001b[1m[\u001b[0m\u001b[34;49mnotice\u001b[0m\u001b[1;39;49m]\u001b[0m\u001b[39;49m To update, run: \u001b[0m\u001b[32;49mpython3.10 -m pip install --upgrade pip\u001b[0m\n"
     ]
    }
   ],
   "source": [
    "! pip install dist/aistockpicker-1.0.0.tar.gz"
   ]
  },
  {
   "attachments": {},
   "cell_type": "markdown",
   "metadata": {},
   "source": [
    "### Publish your package\n",
    "\n",
    "Create an account in https://test.pypi.org/ or https://pypi.org/\n",
    "\n",
    "• PyPi is the official Python packages repository"
   ]
  },
  {
   "attachments": {},
   "cell_type": "markdown",
   "metadata": {},
   "source": [
    "### Check your package"
   ]
  },
  {
   "cell_type": "code",
   "execution_count": 7,
   "metadata": {},
   "outputs": [
    {
     "name": "stdout",
     "output_type": "stream",
     "text": [
      "running check\n"
     ]
    }
   ],
   "source": [
    "! python setup.py check"
   ]
  },
  {
   "attachments": {},
   "cell_type": "markdown",
   "metadata": {},
   "source": [
    "### python setup.py sdist"
   ]
  },
  {
   "cell_type": "code",
   "execution_count": 8,
   "metadata": {},
   "outputs": [
    {
     "name": "stdout",
     "output_type": "stream",
     "text": [
      "running sdist\n",
      "running egg_info\n",
      "writing aistockpicker.egg-info/PKG-INFO\n",
      "writing dependency_links to aistockpicker.egg-info/dependency_links.txt\n",
      "writing top-level names to aistockpicker.egg-info/top_level.txt\n",
      "reading manifest file 'aistockpicker.egg-info/SOURCES.txt'\n",
      "adding license file 'LICENSE'\n",
      "writing manifest file 'aistockpicker.egg-info/SOURCES.txt'\n",
      "running check\n",
      "creating aistockpicker-1.0.0\n",
      "creating aistockpicker-1.0.0/aistockpicker.egg-info\n",
      "creating aistockpicker-1.0.0/novaims\n",
      "creating aistockpicker-1.0.0/novaims/aistockpicker\n",
      "creating aistockpicker-1.0.0/novaims/aistockpicker/welcome\n",
      "copying files to aistockpicker-1.0.0...\n",
      "copying LICENSE -> aistockpicker-1.0.0\n",
      "copying README.md -> aistockpicker-1.0.0\n",
      "copying setup.py -> aistockpicker-1.0.0\n",
      "copying aistockpicker.egg-info/PKG-INFO -> aistockpicker-1.0.0/aistockpicker.egg-info\n",
      "copying aistockpicker.egg-info/SOURCES.txt -> aistockpicker-1.0.0/aistockpicker.egg-info\n",
      "copying aistockpicker.egg-info/dependency_links.txt -> aistockpicker-1.0.0/aistockpicker.egg-info\n",
      "copying aistockpicker.egg-info/top_level.txt -> aistockpicker-1.0.0/aistockpicker.egg-info\n",
      "copying novaims/__init__.py -> aistockpicker-1.0.0/novaims\n",
      "copying novaims/aistockpicker/__init__.py -> aistockpicker-1.0.0/novaims/aistockpicker\n",
      "copying novaims/aistockpicker/main.py -> aistockpicker-1.0.0/novaims/aistockpicker\n",
      "copying novaims/aistockpicker/welcome/__init__.py -> aistockpicker-1.0.0/novaims/aistockpicker/welcome\n",
      "copying novaims/aistockpicker/welcome/greetings.py -> aistockpicker-1.0.0/novaims/aistockpicker/welcome\n",
      "Writing aistockpicker-1.0.0/setup.cfg\n",
      "Creating tar archive\n",
      "removing 'aistockpicker-1.0.0' (and everything under it)\n"
     ]
    }
   ],
   "source": [
    "! python setup.py sdist"
   ]
  },
  {
   "cell_type": "code",
   "execution_count": 9,
   "metadata": {},
   "outputs": [],
   "source": [
    "#! pip install twine\n",
    "\n",
    "#! twine upload --repository-url https://test.pypi.org/legacy/ dist/aistockpicker-1.0.0.tar.gz\n",
    "\n",
    "#! twine upload dist/aistockpicker-1.0.0.tar.gz"
   ]
  }
 ],
 "metadata": {
  "kernelspec": {
   "display_name": "Python 3",
   "language": "python",
   "name": "python3"
  },
  "language_info": {
   "codemirror_mode": {
    "name": "ipython",
    "version": 3
   },
   "file_extension": ".py",
   "mimetype": "text/x-python",
   "name": "python",
   "nbconvert_exporter": "python",
   "pygments_lexer": "ipython3",
   "version": "3.10.11"
  },
  "orig_nbformat": 4
 },
 "nbformat": 4,
 "nbformat_minor": 2
}
