{
 "cells": [
  {
   "cell_type": "code",
   "execution_count": 1,
   "metadata": {},
   "outputs": [
    {
     "data": {
      "text/plain": [
       "True"
      ]
     },
     "execution_count": 1,
     "metadata": {},
     "output_type": "execute_result"
    }
   ],
   "source": [
    "import requests\n",
    "import pandas as pd\n",
    "import sqlite3\n",
    "from datetime import datetime, timedelta\n",
    "from dateutil import rrule\n",
    "import os\n",
    "import json\n",
    "from dotenv import load_dotenv, find_dotenv\n",
    "import pytz\n",
    "\n",
    "load_dotenv(find_dotenv())"
   ]
  },
  {
   "cell_type": "markdown",
   "metadata": {},
   "source": [
    "# Fetching top 100 public companies"
   ]
  },
  {
   "cell_type": "code",
   "execution_count": 2,
   "metadata": {},
   "outputs": [
    {
     "data": {
      "text/html": [
       "<div>\n",
       "<style scoped>\n",
       "    .dataframe tbody tr th:only-of-type {\n",
       "        vertical-align: middle;\n",
       "    }\n",
       "\n",
       "    .dataframe tbody tr th {\n",
       "        vertical-align: top;\n",
       "    }\n",
       "\n",
       "    .dataframe thead th {\n",
       "        text-align: right;\n",
       "    }\n",
       "</style>\n",
       "<table border=\"1\" class=\"dataframe\">\n",
       "  <thead>\n",
       "    <tr style=\"text-align: right;\">\n",
       "      <th></th>\n",
       "      <th>Symbol</th>\n",
       "      <th>Name</th>\n",
       "      <th>Market Cap</th>\n",
       "      <th>IPO Year</th>\n",
       "      <th>Country</th>\n",
       "    </tr>\n",
       "  </thead>\n",
       "  <tbody>\n",
       "    <tr>\n",
       "      <th>22</th>\n",
       "      <td>AAPL</td>\n",
       "      <td>Apple Inc. Common Stock</td>\n",
       "      <td>2.727235e+12</td>\n",
       "      <td>1980.0</td>\n",
       "      <td>United States</td>\n",
       "    </tr>\n",
       "    <tr>\n",
       "      <th>4519</th>\n",
       "      <td>MSFT</td>\n",
       "      <td>Microsoft Corporation Common Stock</td>\n",
       "      <td>2.460812e+12</td>\n",
       "      <td>1986.0</td>\n",
       "      <td>United States</td>\n",
       "    </tr>\n",
       "    <tr>\n",
       "      <th>3034</th>\n",
       "      <td>GOOG</td>\n",
       "      <td>Alphabet Inc. Class C Capital Stock</td>\n",
       "      <td>1.741555e+12</td>\n",
       "      <td>2004.0</td>\n",
       "      <td>United States</td>\n",
       "    </tr>\n",
       "  </tbody>\n",
       "</table>\n",
       "</div>"
      ],
      "text/plain": [
       "     Symbol                                 Name    Market Cap  IPO Year  \\\n",
       "22     AAPL              Apple Inc. Common Stock  2.727235e+12    1980.0   \n",
       "4519   MSFT   Microsoft Corporation Common Stock  2.460812e+12    1986.0   \n",
       "3034   GOOG  Alphabet Inc. Class C Capital Stock  1.741555e+12    2004.0   \n",
       "\n",
       "            Country  \n",
       "22    United States  \n",
       "4519  United States  \n",
       "3034  United States  "
      ]
     },
     "execution_count": 2,
     "metadata": {},
     "output_type": "execute_result"
    }
   ],
   "source": [
    "symbols_df=pd.read_csv('marketcap.csv').sort_values(by='Market Cap', ascending=False)[['Symbol','Name','Market Cap','IPO Year','Country']]\n",
    "symbols_df.head(3)\n"
   ]
  },
  {
   "cell_type": "code",
   "execution_count": 3,
   "metadata": {},
   "outputs": [],
   "source": [
    "symbols_df=symbols_df.loc[(symbols_df['IPO Year']<2020)]"
   ]
  },
  {
   "cell_type": "code",
   "execution_count": 4,
   "metadata": {},
   "outputs": [],
   "source": [
    "symbols_to_drop=['GOOG','TBC']# drop rows with other class stocks\n",
    "symbols_df= symbols_df.loc[~symbols_df['Symbol'].isin(symbols_to_drop)].head(100).reset_index(drop=True)"
   ]
  },
  {
   "cell_type": "code",
   "execution_count": 5,
   "metadata": {},
   "outputs": [
    {
     "name": "stdout",
     "output_type": "stream",
     "text": [
      "['AAPL', 'MSFT', 'GOOGL', 'AMZN', 'NVDA', 'TSLA', 'META', 'TSM', 'MA', 'AVGO', 'ORCL', 'ABBV', 'ADBE', 'ASML', 'CSCO', 'BABA', 'CRM', 'ACN', 'NFLX', 'TBB', 'INTU', 'AMGN', 'UPS', 'PDD', 'QCOM', 'HDB', 'NOW', 'AMAT', 'GS', 'RYAAY', 'SBUX', 'RIO', 'BLK', 'ISRG', 'UBER', 'GILD', 'VRTX', 'UBS', 'REGN', 'ZTS', 'LRCX', 'BX', 'SHOP', 'CME', 'BTI', 'EQIX', 'VMW', 'HCA', 'MELI', 'SNPS', 'RELX', 'ICE', 'KLAC', 'STLA', 'RACE', 'ANET', 'BN', 'ORLY', 'EL', 'ROP', 'CTAS', 'CMG', 'TEAM', 'ING', 'NXPI', 'TAK', 'DELL', 'JD', 'MET', 'TDG', 'FTNT', 'RSG', 'BIDU', 'LULU', 'MRVL', 'GM', 'ODFL', 'MRNA', 'ABEV', 'MCHP', 'PAYX', 'CPRT', 'ALC', 'TTD', 'BSBR', 'HLT', 'ROST', 'COF', 'LNG', 'CRWD', 'DLR', 'SGEN', 'IQV', 'KMI', 'DOW', 'CTVA', 'DXCM', 'IDXX', 'LVS', 'PRU']\n"
     ]
    }
   ],
   "source": [
    "symbols_list=symbols_df['Symbol'].tolist()\n",
    "print(symbols_list)"
   ]
  },
  {
   "cell_type": "markdown",
   "metadata": {},
   "source": [
    "## Saving symbols in Sqlite database- constants.db"
   ]
  },
  {
   "cell_type": "code",
   "execution_count": 8,
   "metadata": {
    "tags": [
     "parameters"
    ]
   },
   "outputs": [],
   "source": [
    "conn = sqlite3.connect('../database/constants.db')\n",
    "\n",
    "c= conn.cursor()\n",
    "\n",
    "c.execute('DROP TABLE IF EXISTS stock_indices')\n",
    "\n",
    "c.execute('''CREATE TABLE stock_indices (\n",
    "    id INTEGER PRIMARY KEY AUTOINCREMENT,\n",
    "    stock_index TEXT NOT NULL)''')\n",
    "\n",
    "for symbol in symbols_list:\n",
    "    c.execute(\"INSERT INTO stock_indices (stock_index) VALUES (?)\",(symbol,))\n",
    "    \n",
    "conn.commit()\n"
   ]
  },
  {
   "cell_type": "markdown",
   "metadata": {},
   "source": [
    "# Saving Alpha Vantage and FinnHUB data to local files"
   ]
  },
  {
   "cell_type": "code",
   "execution_count": 7,
   "metadata": {},
   "outputs": [
    {
     "ename": "NameError",
     "evalue": "name 'symbols_list' is not defined",
     "output_type": "error",
     "traceback": [
      "\u001b[1;31m---------------------------------------------------------------------------\u001b[0m",
      "\u001b[1;31mNameError\u001b[0m                                 Traceback (most recent call last)",
      "\u001b[1;32mc:\\Users\\Pedro\\Documents\\AIStockPicker\\external_data_local\\fetch_external_data.ipynb Cell 10\u001b[0m line \u001b[0;36m1\n\u001b[0;32m      <a href='vscode-notebook-cell:/c%3A/Users/Pedro/Documents/AIStockPicker/external_data_local/fetch_external_data.ipynb#X26sZmlsZQ%3D%3D?line=7'>8</a>\u001b[0m \u001b[39melse\u001b[39;00m:\n\u001b[0;32m      <a href='vscode-notebook-cell:/c%3A/Users/Pedro/Documents/AIStockPicker/external_data_local/fetch_external_data.ipynb#X26sZmlsZQ%3D%3D?line=8'>9</a>\u001b[0m     end_date \u001b[39m=\u001b[39m datetime\u001b[39m.\u001b[39mtoday()\u001b[39m.\u001b[39mdate()\n\u001b[1;32m---> <a href='vscode-notebook-cell:/c%3A/Users/Pedro/Documents/AIStockPicker/external_data_local/fetch_external_data.ipynb#X26sZmlsZQ%3D%3D?line=9'>10</a>\u001b[0m \u001b[39mfor\u001b[39;00m symbol \u001b[39min\u001b[39;00m symbols_list:\n\u001b[0;32m     <a href='vscode-notebook-cell:/c%3A/Users/Pedro/Documents/AIStockPicker/external_data_local/fetch_external_data.ipynb#X26sZmlsZQ%3D%3D?line=10'>11</a>\u001b[0m     \u001b[39m#iterate through days to get news sentiment\u001b[39;00m\n\u001b[0;32m     <a href='vscode-notebook-cell:/c%3A/Users/Pedro/Documents/AIStockPicker/external_data_local/fetch_external_data.ipynb#X26sZmlsZQ%3D%3D?line=11'>12</a>\u001b[0m     \u001b[39mfor\u001b[39;00m date \u001b[39min\u001b[39;00m rrule\u001b[39m.\u001b[39mrrule(rrule\u001b[39m.\u001b[39mDAILY, dtstart\u001b[39m=\u001b[39mstart_date, until\u001b[39m=\u001b[39mend_date):\n\u001b[0;32m     <a href='vscode-notebook-cell:/c%3A/Users/Pedro/Documents/AIStockPicker/external_data_local/fetch_external_data.ipynb#X26sZmlsZQ%3D%3D?line=12'>13</a>\u001b[0m         \u001b[39mif\u001b[39;00m date\u001b[39m.\u001b[39mweekday() \u001b[39min\u001b[39;00m [\u001b[39m5\u001b[39m,\u001b[39m6\u001b[39m]:\n",
      "\u001b[1;31mNameError\u001b[0m: name 'symbols_list' is not defined"
     ]
    }
   ],
   "source": [
    "alpha_vantage_apikey=os.getenv(\"AlphaVantage_API_KEY\")\n",
    "finnhub_apikey=os.getenv(\"FinnHub_API_KEY\")\n",
    "interval ='60'\n",
    "\n",
    "start_date = datetime(2022, 3, 7).date()\n",
    "if datetime.now(tz=pytz.timezone('US/Eastern')).hour<17:\n",
    "    end_date = datetime.today().date()-timedelta(days=1)\n",
    "else:\n",
    "    end_date = datetime.today().date()\n",
    "for symbol in symbols_list:\n",
    "    #iterate through days to get news sentiment\n",
    "    for date in rrule.rrule(rrule.DAILY, dtstart=start_date, until=end_date):\n",
    "        if date.weekday() in [5,6]:\n",
    "            continue\n",
    "        else:            \n",
    "            time_from = date.strftime(\"%Y%m%d\")+\"T0000\"\n",
    "            time_to = date.strftime(\"%Y%m%d\")+\"T2359\"\n",
    "            url = \"https://www.alphavantage.co/query?function=NEWS_SENTIMENT\"+\\\n",
    "                \"&apikey={}&tickers={}&time_from={}&time_to={}&sort=RELEVANCY&limit=1000\".\\\n",
    "                        format(alpha_vantage_apikey,symbol,time_from,time_to)\n",
    "            while(True):\n",
    "                r = requests.get(url)\n",
    "                if r.text!='{\\n    \"Note\": \"Thank you for using Alpha Vantage! Our standard API call frequency is 5 calls per minute and 100 calls per day. Please visit https://www.alphavantage.co/premium/ if you would like to target a higher API call frequency.\"\\n}':  \n",
    "                    break\n",
    "\n",
    "            data = r.json()\n",
    "            filename='news_sentiment/'+symbol+'_'+date.strftime(\"%Y%m%d\")+'.json'\n",
    "            with open(filename, 'w') as f:\n",
    "                json.dump(data, f)\n",
    "    #iterate through weeks to get social sentiment\n",
    "    for date in rrule.rrule(rrule.WEEKLY, dtstart=start_date, until=end_date):\n",
    "        from_date_str=str(date.year)+\"-\"+'{:02d}'.format(date.month)+\"-\"+'{:02d}'.format(date.day)\n",
    "        to_date=date+timedelta(days=5)\n",
    "        to_date_str=str(to_date.year)+\"-\"+'{:02d}'.format(to_date.month)+\"-\"+'{:02d}'.format(to_date.day)\n",
    "        url = \"https://finnhub.io/api/v1/stock/social-sentiment?\"+\\\n",
    "            \"token={}&symbol={}&from={}&to={}\".\\\n",
    "                format(finnhub_apikey,symbol,from_date_str,to_date)\n",
    "        while(True):\n",
    "            r = requests.get(url)\n",
    "            if r.status_code!=429:  \n",
    "                break\n",
    "                \n",
    "        data = r.json()\n",
    "        filename='social_sentiment/'+symbol+'_'+from_date_str+'_'+to_date_str+'.json'\n",
    "        with open(filename, 'w') as f:\n",
    "            json.dump(data, f) \n",
    "    #iterate through months to get stock values\n",
    "    for date in rrule.rrule(rrule.MONTHLY, dtstart=start_date, until=end_date):\n",
    "        year_str=str(date.year)\n",
    "        month_str='{:02d}'.format(date.month)\n",
    "        url = \"https://www.alphavantage.co/query?function=TIME_SERIES_INTRADAY\"+\\\n",
    "            \"&apikey={}&symbol={}&interval={}min&month={}-{}&outputsize=full&extended_hours=false\".\\\n",
    "                format(alpha_vantage_apikey,symbol,interval,year_str,month_str)\n",
    "        while(True):\n",
    "            r = requests.get(url)\n",
    "            if r.text!='{\\n    \"Note\": \"Thank you for using Alpha Vantage! Our standard API call frequency is 5 calls per minute and 100 calls per day. Please visit https://www.alphavantage.co/premium/ if you would like to target a higher API call frequency.\"\\n}':  \n",
    "                    break\n",
    "                \n",
    "        data = r.json()\n",
    "        filename='interday/'+symbol+'_'+year_str+'_'+month_str+'.json'\n",
    "        with open(filename, 'w') as f:\n",
    "            json.dump(data, f)       "
   ]
  },
  {
   "cell_type": "code",
   "execution_count": null,
   "metadata": {},
   "outputs": [],
   "source": []
  }
 ],
 "metadata": {
  "kernelspec": {
   "display_name": "AIStockPicker",
   "language": "python",
   "name": "python3"
  },
  "language_info": {
   "codemirror_mode": {
    "name": "ipython",
    "version": 3
   },
   "file_extension": ".py",
   "mimetype": "text/x-python",
   "name": "python",
   "nbconvert_exporter": "python",
   "pygments_lexer": "ipython3",
   "version": "3.11.4"
  },
  "orig_nbformat": 4
 },
 "nbformat": 4,
 "nbformat_minor": 2
}
